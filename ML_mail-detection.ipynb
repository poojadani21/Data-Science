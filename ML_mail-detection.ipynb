{
  "cells": [
    {
      "cell_type": "code",
      "execution_count": null,
      "id": "b2a541d1",
      "metadata": {
        "id": "b2a541d1"
      },
      "outputs": [],
      "source": [
        "import pandas as pd"
      ]
    },
    {
      "cell_type": "code",
      "execution_count": null,
      "id": "77081be5",
      "metadata": {
        "id": "77081be5"
      },
      "outputs": [],
      "source": [
        "df = pd.read_csv('SMSSpamCollection', sep = '\\t', names = ['label','text'])"
      ]
    },
    {
      "cell_type": "code",
      "execution_count": null,
      "id": "9bf3780e",
      "metadata": {
        "id": "9bf3780e",
        "outputId": "48a267b0-532c-445a-c1f5-aff10e77778d"
      },
      "outputs": [
        {
          "data": {
            "text/html": [
              "<div>\n",
              "<style scoped>\n",
              "    .dataframe tbody tr th:only-of-type {\n",
              "        vertical-align: middle;\n",
              "    }\n",
              "\n",
              "    .dataframe tbody tr th {\n",
              "        vertical-align: top;\n",
              "    }\n",
              "\n",
              "    .dataframe thead th {\n",
              "        text-align: right;\n",
              "    }\n",
              "</style>\n",
              "<table border=\"1\" class=\"dataframe\">\n",
              "  <thead>\n",
              "    <tr style=\"text-align: right;\">\n",
              "      <th></th>\n",
              "      <th>label</th>\n",
              "      <th>text</th>\n",
              "    </tr>\n",
              "  </thead>\n",
              "  <tbody>\n",
              "    <tr>\n",
              "      <th>0</th>\n",
              "      <td>ham</td>\n",
              "      <td>Go until jurong point, crazy.. Available only ...</td>\n",
              "    </tr>\n",
              "    <tr>\n",
              "      <th>1</th>\n",
              "      <td>ham</td>\n",
              "      <td>Ok lar... Joking wif u oni...</td>\n",
              "    </tr>\n",
              "    <tr>\n",
              "      <th>2</th>\n",
              "      <td>spam</td>\n",
              "      <td>Free entry in 2 a wkly comp to win FA Cup fina...</td>\n",
              "    </tr>\n",
              "    <tr>\n",
              "      <th>3</th>\n",
              "      <td>ham</td>\n",
              "      <td>U dun say so early hor... U c already then say...</td>\n",
              "    </tr>\n",
              "    <tr>\n",
              "      <th>4</th>\n",
              "      <td>ham</td>\n",
              "      <td>Nah I don't think he goes to usf, he lives aro...</td>\n",
              "    </tr>\n",
              "    <tr>\n",
              "      <th>...</th>\n",
              "      <td>...</td>\n",
              "      <td>...</td>\n",
              "    </tr>\n",
              "    <tr>\n",
              "      <th>5567</th>\n",
              "      <td>spam</td>\n",
              "      <td>This is the 2nd time we have tried 2 contact u...</td>\n",
              "    </tr>\n",
              "    <tr>\n",
              "      <th>5568</th>\n",
              "      <td>ham</td>\n",
              "      <td>Will ü b going to esplanade fr home?</td>\n",
              "    </tr>\n",
              "    <tr>\n",
              "      <th>5569</th>\n",
              "      <td>ham</td>\n",
              "      <td>Pity, * was in mood for that. So...any other s...</td>\n",
              "    </tr>\n",
              "    <tr>\n",
              "      <th>5570</th>\n",
              "      <td>ham</td>\n",
              "      <td>The guy did some bitching but I acted like i'd...</td>\n",
              "    </tr>\n",
              "    <tr>\n",
              "      <th>5571</th>\n",
              "      <td>ham</td>\n",
              "      <td>Rofl. Its true to its name</td>\n",
              "    </tr>\n",
              "  </tbody>\n",
              "</table>\n",
              "<p>5572 rows × 2 columns</p>\n",
              "</div>"
            ],
            "text/plain": [
              "     label                                               text\n",
              "0      ham  Go until jurong point, crazy.. Available only ...\n",
              "1      ham                      Ok lar... Joking wif u oni...\n",
              "2     spam  Free entry in 2 a wkly comp to win FA Cup fina...\n",
              "3      ham  U dun say so early hor... U c already then say...\n",
              "4      ham  Nah I don't think he goes to usf, he lives aro...\n",
              "...    ...                                                ...\n",
              "5567  spam  This is the 2nd time we have tried 2 contact u...\n",
              "5568   ham               Will ü b going to esplanade fr home?\n",
              "5569   ham  Pity, * was in mood for that. So...any other s...\n",
              "5570   ham  The guy did some bitching but I acted like i'd...\n",
              "5571   ham                         Rofl. Its true to its name\n",
              "\n",
              "[5572 rows x 2 columns]"
            ]
          },
          "execution_count": 3,
          "metadata": {},
          "output_type": "execute_result"
        }
      ],
      "source": [
        "df"
      ]
    },
    {
      "cell_type": "code",
      "execution_count": null,
      "id": "2680ffa1",
      "metadata": {
        "id": "2680ffa1",
        "outputId": "2f77b73a-ed25-4387-f63b-01608a3b3575"
      },
      "outputs": [
        {
          "data": {
            "text/plain": [
              "(5572, 2)"
            ]
          },
          "execution_count": 4,
          "metadata": {},
          "output_type": "execute_result"
        }
      ],
      "source": [
        "df.shape"
      ]
    },
    {
      "cell_type": "code",
      "execution_count": null,
      "id": "baa3bbfb",
      "metadata": {
        "id": "baa3bbfb",
        "outputId": "8c66f731-a243-41da-be9e-2cf61c08f6d3"
      },
      "outputs": [
        {
          "name": "stdout",
          "output_type": "stream",
          "text": [
            "Requirement already satisfied: nltk in c:\\users\\91916\\anaconda3\\lib\\site-packages (3.7)\n",
            "Requirement already satisfied: click in c:\\users\\91916\\anaconda3\\lib\\site-packages (from nltk) (8.0.4)\n",
            "Requirement already satisfied: joblib in c:\\users\\91916\\anaconda3\\lib\\site-packages (from nltk) (1.1.0)\n",
            "Requirement already satisfied: regex>=2021.8.3 in c:\\users\\91916\\anaconda3\\lib\\site-packages (from nltk) (2022.7.9)\n",
            "Requirement already satisfied: tqdm in c:\\users\\91916\\anaconda3\\lib\\site-packages (from nltk) (4.64.1)\n",
            "Requirement already satisfied: colorama in c:\\users\\91916\\anaconda3\\lib\\site-packages (from click->nltk) (0.4.5)\n"
          ]
        }
      ],
      "source": [
        "!pip install nltk"
      ]
    },
    {
      "cell_type": "code",
      "execution_count": null,
      "id": "eafc9b55",
      "metadata": {
        "id": "eafc9b55"
      },
      "outputs": [],
      "source": [
        "import nltk"
      ]
    },
    {
      "cell_type": "code",
      "execution_count": null,
      "id": "3a42188d",
      "metadata": {
        "id": "3a42188d",
        "outputId": "b2b586e2-a216-44fb-c8fc-6558a1290e17"
      },
      "outputs": [
        {
          "name": "stderr",
          "output_type": "stream",
          "text": [
            "[nltk_data] Downloading package punkt to\n",
            "[nltk_data]     C:\\Users\\91916\\AppData\\Roaming\\nltk_data...\n",
            "[nltk_data]   Package punkt is already up-to-date!\n",
            "[nltk_data] Downloading package stopwords to\n",
            "[nltk_data]     C:\\Users\\91916\\AppData\\Roaming\\nltk_data...\n",
            "[nltk_data]   Package stopwords is already up-to-date!\n"
          ]
        },
        {
          "data": {
            "text/plain": [
              "True"
            ]
          },
          "execution_count": 7,
          "metadata": {},
          "output_type": "execute_result"
        }
      ],
      "source": [
        "nltk.download('punkt')\n",
        "nltk.download('stopwords')"
      ]
    },
    {
      "cell_type": "code",
      "execution_count": null,
      "id": "714e147c",
      "metadata": {
        "id": "714e147c"
      },
      "outputs": [],
      "source": [
        "sent = 'hello friends! How are you?'"
      ]
    },
    {
      "cell_type": "code",
      "execution_count": null,
      "id": "1a0e505b",
      "metadata": {
        "id": "1a0e505b",
        "outputId": "10aa3bea-c796-4995-f5d5-650c204bc87f"
      },
      "outputs": [
        {
          "data": {
            "text/plain": [
              "['hello', 'friends', '!', 'How', 'are', 'you', '?']"
            ]
          },
          "execution_count": 9,
          "metadata": {},
          "output_type": "execute_result"
        }
      ],
      "source": [
        "from nltk.tokenize import word_tokenize\n",
        "word_tokenize('hello friends! How are you?')"
      ]
    },
    {
      "cell_type": "code",
      "execution_count": null,
      "id": "43e9be53",
      "metadata": {
        "id": "43e9be53"
      },
      "outputs": [],
      "source": [
        "from nltk.corpus import stopwords\n",
        "swords = stopwords.words('english')"
      ]
    },
    {
      "cell_type": "code",
      "execution_count": null,
      "id": "2ef2bd9b",
      "metadata": {
        "id": "2ef2bd9b"
      },
      "outputs": [],
      "source": [
        "clean = [word for word in word_tokenize(sent) if word not in swords]"
      ]
    },
    {
      "cell_type": "code",
      "execution_count": null,
      "id": "d0d753c5",
      "metadata": {
        "id": "d0d753c5",
        "outputId": "eba01ca0-6758-471b-dfa0-095f368c558a"
      },
      "outputs": [
        {
          "data": {
            "text/plain": [
              "['hello', 'friends', '!', 'How', '?']"
            ]
          },
          "execution_count": 13,
          "metadata": {},
          "output_type": "execute_result"
        }
      ],
      "source": [
        "clean"
      ]
    },
    {
      "cell_type": "code",
      "execution_count": null,
      "id": "740ab81d",
      "metadata": {
        "id": "740ab81d"
      },
      "outputs": [],
      "source": [
        "from nltk.stem import PorterStemmer\n",
        "ps = PorterStemmer()\n",
        "clean = [ps.stem(word) for word in word_tokenize(sent) if word not in swords]"
      ]
    },
    {
      "cell_type": "code",
      "execution_count": null,
      "id": "dbba5c61",
      "metadata": {
        "id": "dbba5c61",
        "outputId": "c448303c-aec9-49ac-d6ab-b59aa101bb48"
      },
      "outputs": [
        {
          "data": {
            "text/plain": [
              "['hello', 'friend', '!', 'how', '?']"
            ]
          },
          "execution_count": 15,
          "metadata": {},
          "output_type": "execute_result"
        }
      ],
      "source": [
        "clean"
      ]
    },
    {
      "cell_type": "code",
      "execution_count": null,
      "id": "260cdcd9",
      "metadata": {
        "id": "260cdcd9"
      },
      "outputs": [],
      "source": [
        "sent = 'Hello friends! How are you? We will be learning Python today.'"
      ]
    },
    {
      "cell_type": "code",
      "execution_count": null,
      "id": "e15ee456",
      "metadata": {
        "id": "e15ee456"
      },
      "outputs": [],
      "source": [
        "def clean_text(sent):\n",
        "    tokens = word_tokenize(sent)\n",
        "    clean = [word for word in tokens if word.isdigit() or word.isalpha()]\n",
        "    clean = [ps.stem(word) for word in clean if word not in swords]\n",
        "    return clean"
      ]
    },
    {
      "cell_type": "code",
      "execution_count": null,
      "id": "d63cbfdc",
      "metadata": {
        "id": "d63cbfdc",
        "outputId": "73452e15-4cb6-43f4-cb90-41f2d62c8a35"
      },
      "outputs": [
        {
          "data": {
            "text/plain": [
              "['hello', 'friend', 'how', 'we', 'learn', 'python', 'today']"
            ]
          },
          "execution_count": 18,
          "metadata": {},
          "output_type": "execute_result"
        }
      ],
      "source": [
        "clean_text(sent)"
      ]
    },
    {
      "cell_type": "code",
      "execution_count": null,
      "id": "bcdd28dd",
      "metadata": {
        "id": "bcdd28dd"
      },
      "outputs": [],
      "source": [
        "# Pre-Processing\n",
        "from sklearn.feature_extraction.text import TfidfVectorizer"
      ]
    },
    {
      "cell_type": "code",
      "execution_count": null,
      "id": "00ff9bd6",
      "metadata": {
        "id": "00ff9bd6"
      },
      "outputs": [],
      "source": [
        "tfidf = TfidfVectorizer(analyzer=clean_text)"
      ]
    },
    {
      "cell_type": "code",
      "execution_count": null,
      "id": "d5d38eba",
      "metadata": {
        "id": "d5d38eba"
      },
      "outputs": [],
      "source": [
        "x = df['text']\n",
        "y = df['label']"
      ]
    },
    {
      "cell_type": "code",
      "execution_count": null,
      "id": "1ff089ad",
      "metadata": {
        "id": "1ff089ad"
      },
      "outputs": [],
      "source": [
        "x_new = tfidf.fit_transform(x)"
      ]
    },
    {
      "cell_type": "code",
      "execution_count": null,
      "id": "db76e0e7",
      "metadata": {
        "id": "db76e0e7",
        "outputId": "ef5f035d-9521-429c-e665-68b611a80a00"
      },
      "outputs": [
        {
          "data": {
            "text/plain": [
              "(5572,)"
            ]
          },
          "execution_count": 23,
          "metadata": {},
          "output_type": "execute_result"
        }
      ],
      "source": [
        "x.shape"
      ]
    },
    {
      "cell_type": "code",
      "execution_count": null,
      "id": "5fddd335",
      "metadata": {
        "id": "5fddd335",
        "outputId": "b578e8c3-bde4-445e-da1e-c90b23750182"
      },
      "outputs": [
        {
          "data": {
            "text/plain": [
              "(5572, 6513)"
            ]
          },
          "execution_count": 24,
          "metadata": {},
          "output_type": "execute_result"
        }
      ],
      "source": [
        "x_new.shape"
      ]
    },
    {
      "cell_type": "code",
      "execution_count": null,
      "id": "988e86b2",
      "metadata": {
        "id": "988e86b2",
        "outputId": "be9f75db-11ea-4f70-dd3d-dd9b93722767"
      },
      "outputs": [
        {
          "name": "stderr",
          "output_type": "stream",
          "text": [
            "C:\\Users\\91916\\anaconda3\\lib\\site-packages\\sklearn\\utils\\deprecation.py:87: FutureWarning: Function get_feature_names is deprecated; get_feature_names is deprecated in 1.0 and will be removed in 1.2. Please use get_feature_names_out instead.\n",
            "  warnings.warn(msg, category=FutureWarning)\n"
          ]
        },
        {
          "data": {
            "text/plain": [
              "['0',\n",
              " '008704050406',\n",
              " '0089',\n",
              " '0121',\n",
              " '01223585236',\n",
              " '01223585334',\n",
              " '0125698789',\n",
              " '02',\n",
              " '0207',\n",
              " '02072069400',\n",
              " '02073162414',\n",
              " '02085076972',\n",
              " '021',\n",
              " '050703',\n",
              " '0578',\n",
              " '06',\n",
              " '07008009200',\n",
              " '07046744435',\n",
              " '07090201529',\n",
              " '07090298926',\n",
              " '07099833605',\n",
              " '07123456789',\n",
              " '0721072',\n",
              " '07732584351',\n",
              " '07734396839',\n",
              " '07742676969',\n",
              " '07753741225',\n",
              " '07786200117',\n",
              " '078',\n",
              " '07801543489',\n",
              " '07808',\n",
              " '07808247860',\n",
              " '07808726822',\n",
              " '07815296484',\n",
              " '07821230901',\n",
              " '078498',\n",
              " '07973788240',\n",
              " '0800',\n",
              " '08000407165',\n",
              " '08000776320',\n",
              " '08000839402',\n",
              " '08000930705',\n",
              " '08000938767',\n",
              " '08001950382',\n",
              " '08002888812',\n",
              " '08002986030',\n",
              " '08002986906',\n",
              " '08002988890',\n",
              " '08006344447',\n",
              " '0808',\n",
              " '08081263000',\n",
              " '08081560665',\n",
              " '0825',\n",
              " '0844',\n",
              " '08448350055',\n",
              " '08448714184',\n",
              " '0845',\n",
              " '08450542832',\n",
              " '08452810071',\n",
              " '08452810073',\n",
              " '0870',\n",
              " '08701213186',\n",
              " '08701237397',\n",
              " '08701417012',\n",
              " '087016248',\n",
              " '08701752560',\n",
              " '087018728737',\n",
              " '0870241182716',\n",
              " '08702490080',\n",
              " '08702840625',\n",
              " '08704439680',\n",
              " '08706091795',\n",
              " '08707500020',\n",
              " '08707509020',\n",
              " '08707808226',\n",
              " '08708034412',\n",
              " '08708800282',\n",
              " '08709222922',\n",
              " '08709501522',\n",
              " '087104711148',\n",
              " '08712101358',\n",
              " '08712103738',\n",
              " '0871212025016',\n",
              " '08712300220',\n",
              " '08712317606',\n",
              " '08712400200',\n",
              " '08712400603',\n",
              " '08712402050',\n",
              " '08712402578',\n",
              " '08712402779',\n",
              " '08712402902',\n",
              " '08712402972',\n",
              " '08712404000',\n",
              " '08712405020',\n",
              " '08712405022',\n",
              " '08712460324',\n",
              " '08712466669',\n",
              " '0871277810810',\n",
              " '08714712379',\n",
              " '08714712388',\n",
              " '08714712394',\n",
              " '08714712412',\n",
              " '08714714011',\n",
              " '08715203028',\n",
              " '08715203649',\n",
              " '08715203652',\n",
              " '08715203656',\n",
              " '08715203677',\n",
              " '08715203685',\n",
              " '08715203694',\n",
              " '08715205273',\n",
              " '08715500022',\n",
              " '08715705022',\n",
              " '08717111821',\n",
              " '08717168528',\n",
              " '08717205546',\n",
              " '08717507382',\n",
              " '08717509990',\n",
              " '08717895698',\n",
              " '08717898035',\n",
              " '08718711108',\n",
              " '08718720201',\n",
              " '08718723815',\n",
              " '08718725756',\n",
              " '08718726270',\n",
              " '08718726970',\n",
              " '08718726971',\n",
              " '08718726978',\n",
              " '087187272008',\n",
              " '08718727868',\n",
              " '08718727870',\n",
              " '08718730555',\n",
              " '08718730666',\n",
              " '08718738001',\n",
              " '08718738002',\n",
              " '08718738034',\n",
              " '08719180219',\n",
              " '08719180248',\n",
              " '08719181259',\n",
              " '08719181503',\n",
              " '08719181513',\n",
              " '08719839835',\n",
              " '08719899217',\n",
              " '08719899229',\n",
              " '08719899230',\n",
              " '09041940223',\n",
              " '09050000301',\n",
              " '09050000332',\n",
              " '09050000460',\n",
              " '09050000555',\n",
              " '09050000878',\n",
              " '09050000928',\n",
              " '09050001295',\n",
              " '09050001808',\n",
              " '09050002311',\n",
              " '09050003091',\n",
              " '09050005321',\n",
              " '09050090044',\n",
              " '09050280520',\n",
              " '09053750005',\n",
              " '09056242159',\n",
              " '09057039994',\n",
              " '09058091854',\n",
              " '09058091870',\n",
              " '09058094454',\n",
              " '09058094455',\n",
              " '09058094507',\n",
              " '09058094565',\n",
              " '09058094583',\n",
              " '09058094594',\n",
              " '09058094597',\n",
              " '09058094599',\n",
              " '09058095107',\n",
              " '09058095201',\n",
              " '09058097189',\n",
              " '09058097218',\n",
              " '09058098002',\n",
              " '09058099801',\n",
              " '09061104276',\n",
              " '09061104283',\n",
              " '09061209465',\n",
              " '09061213237',\n",
              " '09061221061',\n",
              " '09061221066',\n",
              " '09061701444',\n",
              " '09061701461',\n",
              " '09061701851',\n",
              " '09061701939',\n",
              " '09061702893',\n",
              " '09061743386',\n",
              " '09061743806',\n",
              " '09061743810',\n",
              " '09061743811',\n",
              " '09061744553',\n",
              " '09061749602',\n",
              " '09061790121',\n",
              " '09061790125',\n",
              " '09061790126',\n",
              " '09063440451',\n",
              " '09063442151',\n",
              " '09063458130',\n",
              " '0906346330',\n",
              " '09064011000',\n",
              " '09064012103',\n",
              " '09064012160',\n",
              " '09064015307',\n",
              " '09064017295',\n",
              " '09064017305',\n",
              " '09064018838',\n",
              " '09064019014',\n",
              " '09064019788',\n",
              " '09065069120',\n",
              " '09065069154',\n",
              " '09065174042',\n",
              " '09065394514',\n",
              " '09065394973',\n",
              " '09065989180',\n",
              " '09065989182',\n",
              " '09066350750',\n",
              " '09066358152',\n",
              " '09066358361',\n",
              " '09066361921',\n",
              " '09066362206',\n",
              " '09066362220',\n",
              " '09066362231',\n",
              " '09066364311',\n",
              " '09066364349',\n",
              " '09066364589',\n",
              " '09066368327',\n",
              " '09066368470',\n",
              " '09066368753',\n",
              " '09066380611',\n",
              " '09066382422',\n",
              " '09066612661',\n",
              " '09066660100',\n",
              " '09071512432',\n",
              " '09071512433',\n",
              " '09071517866',\n",
              " '09077818151',\n",
              " '09090204448',\n",
              " '09090900040',\n",
              " '09094100151',\n",
              " '09094646631',\n",
              " '09094646899',\n",
              " '09095350301',\n",
              " '09096102316',\n",
              " '09099725823',\n",
              " '09099726395',\n",
              " '09099726429',\n",
              " '09099726481',\n",
              " '09099726553',\n",
              " '09111030116',\n",
              " '09111032124',\n",
              " '09701213186',\n",
              " '1',\n",
              " '10',\n",
              " '100',\n",
              " '1000',\n",
              " '1013',\n",
              " '1030',\n",
              " '11',\n",
              " '1120',\n",
              " '113',\n",
              " '1131',\n",
              " '1146',\n",
              " '116',\n",
              " '1172',\n",
              " '12',\n",
              " '1205',\n",
              " '121',\n",
              " '1225',\n",
              " '123',\n",
              " '128',\n",
              " '130',\n",
              " '1327',\n",
              " '139',\n",
              " '140',\n",
              " '1405',\n",
              " '145',\n",
              " '150',\n",
              " '151',\n",
              " '153',\n",
              " '15541',\n",
              " '16',\n",
              " '1680',\n",
              " '169',\n",
              " '177',\n",
              " '18',\n",
              " '180',\n",
              " '1843',\n",
              " '195',\n",
              " '1956669',\n",
              " '2',\n",
              " '20',\n",
              " '200',\n",
              " '2000',\n",
              " '2003',\n",
              " '2004',\n",
              " '2005',\n",
              " '2006',\n",
              " '2007',\n",
              " '2025050',\n",
              " '21',\n",
              " '21870000',\n",
              " '22',\n",
              " '2309',\n",
              " '24',\n",
              " '25',\n",
              " '250',\n",
              " '255',\n",
              " '2667',\n",
              " '28',\n",
              " '2814032',\n",
              " '3',\n",
              " '30',\n",
              " '300',\n",
              " '3000',\n",
              " '300603',\n",
              " '3030',\n",
              " '31',\n",
              " '3100',\n",
              " '310303',\n",
              " '32000',\n",
              " '3230',\n",
              " '32323',\n",
              " '326',\n",
              " '330',\n",
              " '350',\n",
              " '3650',\n",
              " '36504',\n",
              " '3680',\n",
              " '373',\n",
              " '3750',\n",
              " '37819',\n",
              " '391784',\n",
              " '4',\n",
              " '40',\n",
              " '400',\n",
              " '402',\n",
              " '4041',\n",
              " '40411',\n",
              " '40533',\n",
              " '41685',\n",
              " '41782',\n",
              " '420',\n",
              " '42049',\n",
              " '4217',\n",
              " '42478',\n",
              " '42810',\n",
              " '430',\n",
              " '434',\n",
              " '44',\n",
              " '447801259231',\n",
              " '448712404000',\n",
              " '449050000301',\n",
              " '45',\n",
              " '45239',\n",
              " '47',\n",
              " '4742',\n",
              " '4882',\n",
              " '48922',\n",
              " '49557',\n",
              " '5',\n",
              " '50',\n",
              " '500',\n",
              " '5000',\n",
              " '505060',\n",
              " '515',\n",
              " '5226',\n",
              " '5249',\n",
              " '526',\n",
              " '528',\n",
              " '530',\n",
              " '54',\n",
              " '542',\n",
              " '545',\n",
              " '6',\n",
              " '600',\n",
              " '6031',\n",
              " '61200',\n",
              " '61610',\n",
              " '6230',\n",
              " '62468',\n",
              " '630',\n",
              " '645',\n",
              " '650',\n",
              " '6669',\n",
              " '67441233',\n",
              " '68866',\n",
              " '69200',\n",
              " '69669',\n",
              " '69696',\n",
              " '69698',\n",
              " '69855',\n",
              " '69876',\n",
              " '69888',\n",
              " '69911',\n",
              " '69969',\n",
              " '69988',\n",
              " '7',\n",
              " '700',\n",
              " '7250',\n",
              " '730',\n",
              " '731',\n",
              " '74355',\n",
              " '750',\n",
              " '7548',\n",
              " '7634',\n",
              " '7684',\n",
              " '7732584351',\n",
              " '78',\n",
              " '786',\n",
              " '8',\n",
              " '80',\n",
              " '800',\n",
              " '8000930705',\n",
              " '80062',\n",
              " '8007',\n",
              " '80082',\n",
              " '80086',\n",
              " '80155',\n",
              " '80160',\n",
              " '80182',\n",
              " '8027',\n",
              " '80488',\n",
              " '80608',\n",
              " '8077',\n",
              " '80878',\n",
              " '81010',\n",
              " '81151',\n",
              " '81303',\n",
              " '81618',\n",
              " '82242',\n",
              " '82277',\n",
              " '82324',\n",
              " '82468',\n",
              " '83021',\n",
              " '83039',\n",
              " '83049',\n",
              " '83110',\n",
              " '83118',\n",
              " '83222',\n",
              " '83338',\n",
              " '83355',\n",
              " '83370',\n",
              " '83383',\n",
              " '83435',\n",
              " '83600',\n",
              " '83738',\n",
              " '84',\n",
              " '84025',\n",
              " '84122',\n",
              " '84128',\n",
              " '84199',\n",
              " '84484',\n",
              " '85',\n",
              " '850',\n",
              " '85023',\n",
              " '85069',\n",
              " '85222',\n",
              " '85233',\n",
              " '8552',\n",
              " '85555',\n",
              " '86021',\n",
              " '861',\n",
              " '864233',\n",
              " '86688',\n",
              " '86888',\n",
              " '87021',\n",
              " '87066',\n",
              " '87070',\n",
              " '87077',\n",
              " '87121',\n",
              " '87131',\n",
              " '8714714',\n",
              " '87239',\n",
              " '87575',\n",
              " '8800',\n",
              " '88039',\n",
              " '88066',\n",
              " '88088',\n",
              " '88222',\n",
              " '88600',\n",
              " '88800',\n",
              " '8883',\n",
              " '88877',\n",
              " '88888',\n",
              " '89034',\n",
              " '89070',\n",
              " '89080',\n",
              " '89105',\n",
              " '89123',\n",
              " '89545',\n",
              " '89555',\n",
              " '89693',\n",
              " '89938',\n",
              " '9',\n",
              " '900',\n",
              " '9061100010',\n",
              " '9153',\n",
              " '930',\n",
              " '946',\n",
              " '98321561',\n",
              " '9996',\n",
              " 'a',\n",
              " 'aa',\n",
              " 'aah',\n",
              " 'aaniy',\n",
              " 'aaooooright',\n",
              " 'aathi',\n",
              " 'ab',\n",
              " 'abbey',\n",
              " 'abdomen',\n",
              " 'abeg',\n",
              " 'abel',\n",
              " 'aberdeen',\n",
              " 'abi',\n",
              " 'abil',\n",
              " 'abiola',\n",
              " 'abj',\n",
              " 'abl',\n",
              " 'abnorm',\n",
              " 'about',\n",
              " 'abouta',\n",
              " 'abroad',\n",
              " 'absenc',\n",
              " 'absolut',\n",
              " 'absolutli',\n",
              " 'abstract',\n",
              " 'abt',\n",
              " 'abta',\n",
              " 'aburo',\n",
              " 'abus',\n",
              " 'ac',\n",
              " 'academ',\n",
              " 'acc',\n",
              " 'accent',\n",
              " 'accentur',\n",
              " 'accept',\n",
              " 'access',\n",
              " 'accid',\n",
              " 'accident',\n",
              " 'accommod',\n",
              " 'accommodationvouch',\n",
              " 'accomod',\n",
              " 'accordin',\n",
              " 'accordingli',\n",
              " 'account',\n",
              " 'accumul',\n",
              " 'ach',\n",
              " 'achan',\n",
              " 'achiev',\n",
              " 'acid',\n",
              " 'acknowledg',\n",
              " 'acnt',\n",
              " 'aco',\n",
              " 'across',\n",
              " 'act',\n",
              " 'actin',\n",
              " 'action',\n",
              " 'activ',\n",
              " 'actor',\n",
              " 'actual',\n",
              " 'ad',\n",
              " 'adam',\n",
              " 'add',\n",
              " 'addamsfa',\n",
              " 'addi',\n",
              " 'addict',\n",
              " 'address',\n",
              " 'adewal',\n",
              " 'adi',\n",
              " 'adjust',\n",
              " 'admin',\n",
              " 'administr',\n",
              " 'admir',\n",
              " 'admiss',\n",
              " 'admit',\n",
              " 'ador',\n",
              " 'adp',\n",
              " 'adress',\n",
              " 'adrian',\n",
              " 'adrink',\n",
              " 'adsens',\n",
              " 'adult',\n",
              " 'advanc',\n",
              " 'adventur',\n",
              " 'advic',\n",
              " 'advis',\n",
              " 'advisor',\n",
              " 'aeronaut',\n",
              " 'aeroplan',\n",
              " 'afew',\n",
              " 'affair',\n",
              " 'affect',\n",
              " 'affection',\n",
              " 'affidavit',\n",
              " 'afford',\n",
              " 'afghanistan',\n",
              " 'afraid',\n",
              " 'africa',\n",
              " 'african',\n",
              " 'aft',\n",
              " 'after',\n",
              " 'afternon',\n",
              " 'afternoon',\n",
              " 'afterward',\n",
              " 'aftr',\n",
              " 'ag',\n",
              " 'again',\n",
              " 'against',\n",
              " 'agalla',\n",
              " 'age',\n",
              " 'agenc',\n",
              " 'agent',\n",
              " 'agidhan',\n",
              " 'ago',\n",
              " 'agre',\n",
              " 'ah',\n",
              " 'aha',\n",
              " 'ahead',\n",
              " 'ahhh',\n",
              " 'ahhhh',\n",
              " 'ahmad',\n",
              " 'ahold',\n",
              " 'ai',\n",
              " 'aid',\n",
              " 'aig',\n",
              " 'aight',\n",
              " 'aint',\n",
              " 'air',\n",
              " 'airport',\n",
              " 'airtel',\n",
              " 'aiya',\n",
              " 'aiyah',\n",
              " 'aiyar',\n",
              " 'aiyo',\n",
              " 'ajith',\n",
              " 'ak',\n",
              " 'aka',\n",
              " 'al',\n",
              " 'alaipayuth',\n",
              " 'albi',\n",
              " 'album',\n",
              " 'alcohol',\n",
              " 'aldrin',\n",
              " 'alert',\n",
              " 'alertfrom',\n",
              " 'alett',\n",
              " 'alex',\n",
              " 'alfi',\n",
              " 'algarv',\n",
              " 'algebra',\n",
              " 'algorithm',\n",
              " 'ali',\n",
              " 'alian',\n",
              " 'alibi',\n",
              " 'aliv',\n",
              " 'all',\n",
              " 'allah',\n",
              " 'allalo',\n",
              " 'allday',\n",
              " 'allo',\n",
              " 'allow',\n",
              " 'almost',\n",
              " 'alon',\n",
              " 'along',\n",
              " 'alot',\n",
              " 'alreadi',\n",
              " 'alright',\n",
              " 'alrit',\n",
              " 'also',\n",
              " 'alter',\n",
              " 'although',\n",
              " 'alwa',\n",
              " 'alway',\n",
              " 'alwi',\n",
              " 'am',\n",
              " 'amanda',\n",
              " 'amaz',\n",
              " 'ambiti',\n",
              " 'ambrith',\n",
              " 'american',\n",
              " 'ami',\n",
              " 'amigo',\n",
              " 'amk',\n",
              " 'amma',\n",
              " 'ammo',\n",
              " 'amnow',\n",
              " 'among',\n",
              " 'amongst',\n",
              " 'amor',\n",
              " 'amount',\n",
              " 'amp',\n",
              " 'amplikat',\n",
              " 'amrca',\n",
              " 'amrita',\n",
              " 'amt',\n",
              " 'amus',\n",
              " 'an',\n",
              " 'ana',\n",
              " 'anal',\n",
              " 'analysi',\n",
              " 'anand',\n",
              " 'and',\n",
              " 'anderson',\n",
              " 'andr',\n",
              " 'andro',\n",
              " 'angel',\n",
              " 'angri',\n",
              " 'ani',\n",
              " 'anim',\n",
              " 'anji',\n",
              " 'anjola',\n",
              " 'anna',\n",
              " 'anni',\n",
              " 'anniversari',\n",
              " 'annonc',\n",
              " 'announc',\n",
              " 'annoy',\n",
              " 'annoyin',\n",
              " 'anonym',\n",
              " 'anot',\n",
              " 'anoth',\n",
              " 'ansr',\n",
              " 'answer',\n",
              " 'answerin',\n",
              " 'answr',\n",
              " 'antelop',\n",
              " 'antha',\n",
              " 'anthoni',\n",
              " 'anti',\n",
              " 'antibiot',\n",
              " 'anybodi',\n",
              " 'anyhow',\n",
              " 'anymor',\n",
              " 'anyon',\n",
              " 'anyplac',\n",
              " 'anyth',\n",
              " 'anythi',\n",
              " 'anythin',\n",
              " 'anythingtomorrow',\n",
              " 'anytim',\n",
              " 'anyway',\n",
              " 'anywher',\n",
              " 'aom',\n",
              " 'apart',\n",
              " 'ape',\n",
              " 'apeshit',\n",
              " 'apnt',\n",
              " 'apo',\n",
              " 'apolog',\n",
              " 'apologet',\n",
              " 'apologis',\n",
              " 'app',\n",
              " 'appar',\n",
              " 'appeal',\n",
              " 'appear',\n",
              " 'appendix',\n",
              " 'appi',\n",
              " 'applebe',\n",
              " 'appli',\n",
              " 'applic',\n",
              " 'appoint',\n",
              " 'appreci',\n",
              " 'approach',\n",
              " 'appropri',\n",
              " 'approv',\n",
              " 'approx',\n",
              " 'appt',\n",
              " 'april',\n",
              " 'aproach',\n",
              " 'apt',\n",
              " 'aptitud',\n",
              " 'aquariu',\n",
              " 'ar',\n",
              " 'arab',\n",
              " 'arabian',\n",
              " 'arcad',\n",
              " 'archiv',\n",
              " 'ard',\n",
              " 'are',\n",
              " 'area',\n",
              " 'arent',\n",
              " 'arestaur',\n",
              " 'aretak',\n",
              " 'argentina',\n",
              " 'argh',\n",
              " 'argu',\n",
              " 'argument',\n",
              " 'ari',\n",
              " 'aris',\n",
              " 'arithmet',\n",
              " 'arm',\n",
              " 'armand',\n",
              " 'armenia',\n",
              " 'arng',\n",
              " 'arngd',\n",
              " 'arnt',\n",
              " 'around',\n",
              " 'aroundn',\n",
              " 'arr',\n",
              " 'arrang',\n",
              " 'arrest',\n",
              " 'arriv',\n",
              " 'arrow',\n",
              " 'arsen',\n",
              " 'art',\n",
              " 'arti',\n",
              " 'artist',\n",
              " 'arul',\n",
              " 'arun',\n",
              " 'as',\n",
              " 'asa',\n",
              " 'asap',\n",
              " 'asda',\n",
              " 'ash',\n",
              " 'ashley',\n",
              " 'ashwini',\n",
              " 'asia',\n",
              " 'asian',\n",
              " 'ask',\n",
              " 'askd',\n",
              " 'askin',\n",
              " 'aslamalaikkum',\n",
              " 'asleep',\n",
              " 'aspect',\n",
              " 'ass',\n",
              " 'assess',\n",
              " 'asshol',\n",
              " 'assist',\n",
              " 'associ',\n",
              " 'asssssholeee',\n",
              " 'assum',\n",
              " 'asther',\n",
              " 'asthma',\n",
              " 'astn',\n",
              " 'astoundingli',\n",
              " 'astrolog',\n",
              " 'astronom',\n",
              " 'asu',\n",
              " 'asusu',\n",
              " 'at',\n",
              " 'ate',\n",
              " 'athlet',\n",
              " 'athom',\n",
              " 'atlanta',\n",
              " 'atlast',\n",
              " 'atleast',\n",
              " 'atm',\n",
              " 'atroci',\n",
              " 'attach',\n",
              " 'attack',\n",
              " 'attempt',\n",
              " 'atten',\n",
              " 'attend',\n",
              " 'attent',\n",
              " 'attitud',\n",
              " 'attract',\n",
              " 'attribut',\n",
              " 'auction',\n",
              " 'audiit',\n",
              " 'audit',\n",
              " 'audrey',\n",
              " 'audri',\n",
              " 'august',\n",
              " 'aunt',\n",
              " 'aunti',\n",
              " 'aust',\n",
              " 'australia',\n",
              " 'authoris',\n",
              " 'auto',\n",
              " 'autocorrect',\n",
              " 'av',\n",
              " 'ava',\n",
              " 'avail',\n",
              " 'availa',\n",
              " 'avalarr',\n",
              " 'avatar',\n",
              " 'avbl',\n",
              " 'ave',\n",
              " 'aveng',\n",
              " 'avent',\n",
              " 'avenu',\n",
              " 'avin',\n",
              " 'avo',\n",
              " 'avoid',\n",
              " 'await',\n",
              " 'awak',\n",
              " 'award',\n",
              " 'away',\n",
              " 'awesom',\n",
              " 'awkward',\n",
              " 'aww',\n",
              " 'awww',\n",
              " 'ax',\n",
              " 'axi',\n",
              " 'ay',\n",
              " 'ayn',\n",
              " 'ayo',\n",
              " 'b',\n",
              " 'ba',\n",
              " 'baaaaaaaab',\n",
              " 'baaaaab',\n",
              " 'babe',\n",
              " 'babi',\n",
              " 'babygoodby',\n",
              " 'babyjontet',\n",
              " 'babysit',\n",
              " 'bac',\n",
              " 'back',\n",
              " 'backdoor',\n",
              " 'backward',\n",
              " 'bad',\n",
              " 'badass',\n",
              " 'badli',\n",
              " 'badrith',\n",
              " 'bag',\n",
              " 'bahama',\n",
              " 'baig',\n",
              " 'bailiff',\n",
              " 'bak',\n",
              " 'bakra',\n",
              " 'bakrid',\n",
              " 'balanc',\n",
              " 'ball',\n",
              " 'baller',\n",
              " 'balloon',\n",
              " 'bam',\n",
              " 'bambl',\n",
              " 'ban',\n",
              " 'band',\n",
              " 'bandag',\n",
              " 'bang',\n",
              " 'bangb',\n",
              " 'bangbab',\n",
              " 'bani',\n",
              " 'bank',\n",
              " 'banneduk',\n",
              " 'banter',\n",
              " 'bao',\n",
              " 'bar',\n",
              " 'barbi',\n",
              " 'barcelona',\n",
              " 'bare',\n",
              " 'bari',\n",
              " 'barkley',\n",
              " 'barm',\n",
              " 'barolla',\n",
              " 'barrel',\n",
              " 'barri',\n",
              " 'base',\n",
              " 'bash',\n",
              " 'basic',\n",
              " 'basket',\n",
              " 'basketbal',\n",
              " 'basq',\n",
              " 'bat',\n",
              " 'batch',\n",
              " 'batchlor',\n",
              " 'bath',\n",
              " 'bathroom',\n",
              " 'batsman',\n",
              " 'batt',\n",
              " 'batteri',\n",
              " 'battl',\n",
              " 'bawl',\n",
              " 'bay',\n",
              " 'bb',\n",
              " 'bbc',\n",
              " 'bbd',\n",
              " 'bbdelux',\n",
              " 'bbq',\n",
              " 'bc',\n",
              " 'bcaz',\n",
              " 'bck',\n",
              " 'bcm',\n",
              " 'bcoz',\n",
              " 'bcum',\n",
              " 'bcz',\n",
              " 'bday',\n",
              " 'be',\n",
              " 'beach',\n",
              " 'bead',\n",
              " 'bear',\n",
              " 'beat',\n",
              " 'beauti',\n",
              " 'bec',\n",
              " 'becau',\n",
              " 'becaus',\n",
              " 'becausethey',\n",
              " 'becom',\n",
              " 'becoz',\n",
              " 'becz',\n",
              " 'bed',\n",
              " 'bedbut',\n",
              " 'bedreal',\n",
              " 'bedrm',\n",
              " 'bedroom',\n",
              " 'beeen',\n",
              " ...]"
            ]
          },
          "execution_count": 25,
          "metadata": {},
          "output_type": "execute_result"
        }
      ],
      "source": [
        "tfidf.get_feature_names()"
      ]
    },
    {
      "cell_type": "code",
      "execution_count": null,
      "id": "9e6b5b9c",
      "metadata": {
        "id": "9e6b5b9c"
      },
      "outputs": [],
      "source": [
        "# Cross Validation\n",
        "from sklearn.model_selection import train_test_split"
      ]
    },
    {
      "cell_type": "code",
      "execution_count": null,
      "id": "2f63910c",
      "metadata": {
        "id": "2f63910c"
      },
      "outputs": [],
      "source": [
        "x_train, x_test, y_train, y_test = train_test_split(x_new, y, random_state=0, test_size=0.25)"
      ]
    },
    {
      "cell_type": "code",
      "execution_count": null,
      "id": "f88dec5b",
      "metadata": {
        "id": "f88dec5b",
        "outputId": "8c0a3d9a-b3d5-42f0-911d-8ce86ed714e6"
      },
      "outputs": [
        {
          "data": {
            "text/plain": [
              "(4179, 6513)"
            ]
          },
          "execution_count": 28,
          "metadata": {},
          "output_type": "execute_result"
        }
      ],
      "source": [
        "x_train.shape"
      ]
    },
    {
      "cell_type": "code",
      "execution_count": null,
      "id": "f4ae7ba8",
      "metadata": {
        "id": "f4ae7ba8",
        "outputId": "9da97305-6471-4406-f436-58407bf0d9bb"
      },
      "outputs": [
        {
          "data": {
            "text/plain": [
              "(1393, 6513)"
            ]
          },
          "execution_count": 29,
          "metadata": {},
          "output_type": "execute_result"
        }
      ],
      "source": [
        "x_test.shape"
      ]
    },
    {
      "cell_type": "code",
      "execution_count": null,
      "id": "ac1d4a04",
      "metadata": {
        "id": "ac1d4a04"
      },
      "outputs": [],
      "source": [
        "from sklearn.naive_bayes import GaussianNB"
      ]
    },
    {
      "cell_type": "code",
      "execution_count": null,
      "id": "d54f9c02",
      "metadata": {
        "id": "d54f9c02"
      },
      "outputs": [],
      "source": [
        "nb = GaussianNB()"
      ]
    },
    {
      "cell_type": "code",
      "execution_count": null,
      "id": "a646c7b2",
      "metadata": {
        "id": "a646c7b2",
        "outputId": "22254120-28d1-4337-c49e-656264a22801"
      },
      "outputs": [
        {
          "data": {
            "text/plain": [
              "GaussianNB()"
            ]
          },
          "execution_count": 32,
          "metadata": {},
          "output_type": "execute_result"
        }
      ],
      "source": [
        "nb.fit(x_train.toarray(), y_train)"
      ]
    },
    {
      "cell_type": "code",
      "execution_count": null,
      "id": "6361346d",
      "metadata": {
        "id": "6361346d"
      },
      "outputs": [],
      "source": [
        "y_pred = nb.predict(x_test.toarray())"
      ]
    },
    {
      "cell_type": "code",
      "execution_count": null,
      "id": "247b3ff8",
      "metadata": {
        "id": "247b3ff8",
        "outputId": "b3a4bb3b-edb7-4aa8-8b4c-3691aa726dd3"
      },
      "outputs": [
        {
          "data": {
            "text/plain": [
              "ham     1208\n",
              "spam     185\n",
              "Name: label, dtype: int64"
            ]
          },
          "execution_count": 34,
          "metadata": {},
          "output_type": "execute_result"
        }
      ],
      "source": [
        "y_test.value_counts()"
      ]
    },
    {
      "cell_type": "code",
      "execution_count": null,
      "id": "cf004e09",
      "metadata": {
        "id": "cf004e09",
        "outputId": "caade1d4-b617-49f3-d5d2-45bd39b26c26"
      },
      "outputs": [
        {
          "data": {
            "text/plain": [
              "<sklearn.metrics._plot.confusion_matrix.ConfusionMatrixDisplay at 0x178d1cc1be0>"
            ]
          },
          "execution_count": 35,
          "metadata": {},
          "output_type": "execute_result"
        },
        {
          "data": {
            "image/png": "[encoded data removed]",
            "text/plain": [
              "<Figure size 640x480 with 2 Axes>"
            ]
          },
          "metadata": {},
          "output_type": "display_data"
        }
      ],
      "source": [
        "from sklearn.metrics import ConfusionMatrixDisplay\n",
        "ConfusionMatrixDisplay.from_predictions(y_test, y_pred)"
      ]
    },
    {
      "cell_type": "code",
      "execution_count": null,
      "id": "6555a504",
      "metadata": {
        "id": "6555a504",
        "outputId": "890a2a03-e8e1-44ff-cc64-3706a35b72c7"
      },
      "outputs": [
        {
          "name": "stdout",
          "output_type": "stream",
          "text": [
            "              precision    recall  f1-score   support\n",
            "\n",
            "         ham       0.98      0.87      0.92      1208\n",
            "        spam       0.51      0.89      0.65       185\n",
            "\n",
            "    accuracy                           0.87      1393\n",
            "   macro avg       0.75      0.88      0.79      1393\n",
            "weighted avg       0.92      0.87      0.89      1393\n",
            "\n",
            "0.8722182340272793\n"
          ]
        }
      ],
      "source": [
        "from sklearn.metrics import accuracy_score, classification_report\n",
        "print(classification_report(y_test, y_pred))\n",
        "print(accuracy_score(y_test, y_pred))"
      ]
    },
    {
      "cell_type": "code",
      "execution_count": null,
      "id": "713d9d60",
      "metadata": {
        "id": "713d9d60"
      },
      "outputs": [],
      "source": [
        "from sklearn.ensemble import RandomForestClassifier"
      ]
    },
    {
      "cell_type": "code",
      "execution_count": null,
      "id": "5f97aec3",
      "metadata": {
        "id": "5f97aec3"
      },
      "outputs": [],
      "source": [
        "rf = RandomForestClassifier(random_state=0)"
      ]
    },
    {
      "cell_type": "code",
      "execution_count": null,
      "id": "06ef40d4",
      "metadata": {
        "id": "06ef40d4",
        "outputId": "79bf7f80-4397-434a-b77b-7c682b31d5ba"
      },
      "outputs": [
        {
          "data": {
            "text/plain": [
              "RandomForestClassifier(random_state=0)"
            ]
          },
          "execution_count": 39,
          "metadata": {},
          "output_type": "execute_result"
        }
      ],
      "source": [
        "rf.fit(x_train, y_train)"
      ]
    },
    {
      "cell_type": "code",
      "execution_count": null,
      "id": "4be4ec18",
      "metadata": {
        "id": "4be4ec18"
      },
      "outputs": [],
      "source": [
        "y_pred = rf.predict(x_test)"
      ]
    },
    {
      "cell_type": "code",
      "execution_count": null,
      "id": "66f17da3",
      "metadata": {
        "id": "66f17da3",
        "outputId": "0fb4dd58-5235-4eb4-a138-4132480e1b0d"
      },
      "outputs": [
        {
          "data": {
            "text/plain": [
              "<sklearn.metrics._plot.confusion_matrix.ConfusionMatrixDisplay at 0x178d1cc1910>"
            ]
          },
          "execution_count": 41,
          "metadata": {},
          "output_type": "execute_result"
        },
        {
          "data": {
            "image/png": "[encoded data removed]",
            "text/plain": [
              "<Figure size 640x480 with 2 Axes>"
            ]
          },
          "metadata": {},
          "output_type": "display_data"
        }
      ],
      "source": [
        "ConfusionMatrixDisplay.from_predictions(y_test, y_pred)"
      ]
    },
    {
      "cell_type": "code",
      "execution_count": null,
      "id": "40069fbb",
      "metadata": {
        "id": "40069fbb",
        "outputId": "867d1599-92ec-4f92-ff2a-53cef92f5b73"
      },
      "outputs": [
        {
          "name": "stdout",
          "output_type": "stream",
          "text": [
            "              precision    recall  f1-score   support\n",
            "\n",
            "         ham       0.98      1.00      0.99      1208\n",
            "        spam       0.99      0.88      0.93       185\n",
            "\n",
            "    accuracy                           0.98      1393\n",
            "   macro avg       0.99      0.94      0.96      1393\n",
            "weighted avg       0.98      0.98      0.98      1393\n",
            "\n",
            "0.9834888729361091\n"
          ]
        }
      ],
      "source": [
        "print(classification_report(y_test, y_pred))\n",
        "print(accuracy_score(y_test, y_pred))"
      ]
    },
    {
      "cell_type": "code",
      "execution_count": null,
      "id": "a23d042f",
      "metadata": {
        "id": "a23d042f"
      },
      "outputs": [],
      "source": [
        "from sklearn.linear_model import LogisticRegression\n",
        "log = LogisticRegression()\n",
        "log.fit(x_train, y_train)\n",
        "y_pred = log.predict(x_test)"
      ]
    },
    {
      "cell_type": "code",
      "execution_count": null,
      "id": "503df58e",
      "metadata": {
        "id": "503df58e",
        "outputId": "9a685a0c-332a-4957-af74-83366ba2bd02"
      },
      "outputs": [
        {
          "data": {
            "text/plain": [
              "<sklearn.metrics._plot.confusion_matrix.ConfusionMatrixDisplay at 0x178d1cc1e50>"
            ]
          },
          "execution_count": 44,
          "metadata": {},
          "output_type": "execute_result"
        },
        {
          "data": {
            "image/png": "[encoded data removed]",
            "text/plain": [
              "<Figure size 640x480 with 2 Axes>"
            ]
          },
          "metadata": {},
          "output_type": "display_data"
        }
      ],
      "source": [
        "ConfusionMatrixDisplay.from_predictions(y_test, y_pred)"
      ]
    },
    {
      "cell_type": "code",
      "execution_count": null,
      "id": "1240b6a5",
      "metadata": {
        "id": "1240b6a5",
        "outputId": "9be57261-ed1e-4ce1-852e-4ccc398d06aa"
      },
      "outputs": [
        {
          "name": "stdout",
          "output_type": "stream",
          "text": [
            "              precision    recall  f1-score   support\n",
            "\n",
            "         ham       0.96      1.00      0.98      1208\n",
            "        spam       0.99      0.74      0.84       185\n",
            "\n",
            "    accuracy                           0.96      1393\n",
            "   macro avg       0.98      0.87      0.91      1393\n",
            "weighted avg       0.97      0.96      0.96      1393\n",
            "\n",
            "0.9641062455132807\n"
          ]
        }
      ],
      "source": [
        "print(classification_report(y_test, y_pred))\n",
        "print(accuracy_score(y_test, y_pred))"
      ]
    },
    {
      "cell_type": "code",
      "execution_count": null,
      "id": "73aa6bd6",
      "metadata": {
        "id": "73aa6bd6"
      },
      "outputs": [],
      "source": [
        "# Hyper Parameter Tuning\n",
        "from sklearn.model_selection import GridSearchCV"
      ]
    },
    {
      "cell_type": "code",
      "execution_count": null,
      "id": "6ee02a1a",
      "metadata": {
        "id": "6ee02a1a"
      },
      "outputs": [],
      "source": [
        "params = {'citerion': ['gini','entropy'],\n",
        "              'max_features': ['sqrt', 'log2'],\n",
        "              'random_state': [0,1,2,3,4],\n",
        "              'class_weight': ['balanced', 'balanced_subsample']\n",
        "             }"
      ]
    },
    {
      "cell_type": "code",
      "execution_count": null,
      "id": "9645af31",
      "metadata": {
        "id": "9645af31"
      },
      "outputs": [],
      "source": [
        "grid = GridSearchCV(rf, param_grid = params, cv = 5, scoring = 'accuracy')"
      ]
    },
    {
      "cell_type": "code",
      "execution_count": null,
      "id": "ab25dbba",
      "metadata": {
        "id": "ab25dbba",
        "outputId": "443963a7-c684-4601-85f5-e026c12669df"
      },
      "outputs": [
        {
          "ename": "ValueError",
          "evalue": "Invalid parameter citerion for estimator RandomForestClassifier(random_state=0). Check the list of available parameters with `estimator.get_params().keys()`.",
          "output_type": "error",
          "traceback": [
            "\u001b[1;31m---------------------------------------------------------------------------\u001b[0m",
            "\u001b[1;31mValueError\u001b[0m                                Traceback (most recent call last)",
            "\u001b[1;32m~\\AppData\\Local\\Temp\\ipykernel_32092\\496093277.py\u001b[0m in \u001b[0;36m<module>\u001b[1;34m\u001b[0m\n\u001b[1;32m----> 1\u001b[1;33m \u001b[0mgrid\u001b[0m\u001b[1;33m.\u001b[0m\u001b[0mfit\u001b[0m\u001b[1;33m(\u001b[0m\u001b[0mx_train\u001b[0m\u001b[1;33m,\u001b[0m \u001b[0my_train\u001b[0m\u001b[1;33m)\u001b[0m\u001b[1;33m\u001b[0m\u001b[1;33m\u001b[0m\u001b[0m\n\u001b[0m",
            "\u001b[1;32m~\\anaconda3\\lib\\site-packages\\sklearn\\model_selection\\_search.py\u001b[0m in \u001b[0;36mfit\u001b[1;34m(self, X, y, groups, **fit_params)\u001b[0m\n\u001b[0;32m    889\u001b[0m                 \u001b[1;32mreturn\u001b[0m \u001b[0mresults\u001b[0m\u001b[1;33m\u001b[0m\u001b[1;33m\u001b[0m\u001b[0m\n\u001b[0;32m    890\u001b[0m \u001b[1;33m\u001b[0m\u001b[0m\n\u001b[1;32m--> 891\u001b[1;33m             \u001b[0mself\u001b[0m\u001b[1;33m.\u001b[0m\u001b[0m_run_search\u001b[0m\u001b[1;33m(\u001b[0m\u001b[0mevaluate_candidates\u001b[0m\u001b[1;33m)\u001b[0m\u001b[1;33m\u001b[0m\u001b[1;33m\u001b[0m\u001b[0m\n\u001b[0m\u001b[0;32m    892\u001b[0m \u001b[1;33m\u001b[0m\u001b[0m\n\u001b[0;32m    893\u001b[0m             \u001b[1;31m# multimetric is determined here because in the case of a callable\u001b[0m\u001b[1;33m\u001b[0m\u001b[1;33m\u001b[0m\u001b[0m\n",
            "\u001b[1;32m~\\anaconda3\\lib\\site-packages\\sklearn\\model_selection\\_search.py\u001b[0m in \u001b[0;36m_run_search\u001b[1;34m(self, evaluate_candidates)\u001b[0m\n\u001b[0;32m   1390\u001b[0m     \u001b[1;32mdef\u001b[0m \u001b[0m_run_search\u001b[0m\u001b[1;33m(\u001b[0m\u001b[0mself\u001b[0m\u001b[1;33m,\u001b[0m \u001b[0mevaluate_candidates\u001b[0m\u001b[1;33m)\u001b[0m\u001b[1;33m:\u001b[0m\u001b[1;33m\u001b[0m\u001b[1;33m\u001b[0m\u001b[0m\n\u001b[0;32m   1391\u001b[0m         \u001b[1;34m\"\"\"Search all candidates in param_grid\"\"\"\u001b[0m\u001b[1;33m\u001b[0m\u001b[1;33m\u001b[0m\u001b[0m\n\u001b[1;32m-> 1392\u001b[1;33m         \u001b[0mevaluate_candidates\u001b[0m\u001b[1;33m(\u001b[0m\u001b[0mParameterGrid\u001b[0m\u001b[1;33m(\u001b[0m\u001b[0mself\u001b[0m\u001b[1;33m.\u001b[0m\u001b[0mparam_grid\u001b[0m\u001b[1;33m)\u001b[0m\u001b[1;33m)\u001b[0m\u001b[1;33m\u001b[0m\u001b[1;33m\u001b[0m\u001b[0m\n\u001b[0m\u001b[0;32m   1393\u001b[0m \u001b[1;33m\u001b[0m\u001b[0m\n\u001b[0;32m   1394\u001b[0m \u001b[1;33m\u001b[0m\u001b[0m\n",
            "\u001b[1;32m~\\anaconda3\\lib\\site-packages\\sklearn\\model_selection\\_search.py\u001b[0m in \u001b[0;36mevaluate_candidates\u001b[1;34m(candidate_params, cv, more_results)\u001b[0m\n\u001b[0;32m    836\u001b[0m                     )\n\u001b[0;32m    837\u001b[0m \u001b[1;33m\u001b[0m\u001b[0m\n\u001b[1;32m--> 838\u001b[1;33m                 out = parallel(\n\u001b[0m\u001b[0;32m    839\u001b[0m                     delayed(_fit_and_score)(\n\u001b[0;32m    840\u001b[0m                         \u001b[0mclone\u001b[0m\u001b[1;33m(\u001b[0m\u001b[0mbase_estimator\u001b[0m\u001b[1;33m)\u001b[0m\u001b[1;33m,\u001b[0m\u001b[1;33m\u001b[0m\u001b[1;33m\u001b[0m\u001b[0m\n",
            "\u001b[1;32m~\\anaconda3\\lib\\site-packages\\joblib\\parallel.py\u001b[0m in \u001b[0;36m__call__\u001b[1;34m(self, iterable)\u001b[0m\n\u001b[0;32m   1041\u001b[0m             \u001b[1;31m# remaining jobs.\u001b[0m\u001b[1;33m\u001b[0m\u001b[1;33m\u001b[0m\u001b[0m\n\u001b[0;32m   1042\u001b[0m             \u001b[0mself\u001b[0m\u001b[1;33m.\u001b[0m\u001b[0m_iterating\u001b[0m \u001b[1;33m=\u001b[0m \u001b[1;32mFalse\u001b[0m\u001b[1;33m\u001b[0m\u001b[1;33m\u001b[0m\u001b[0m\n\u001b[1;32m-> 1043\u001b[1;33m             \u001b[1;32mif\u001b[0m \u001b[0mself\u001b[0m\u001b[1;33m.\u001b[0m\u001b[0mdispatch_one_batch\u001b[0m\u001b[1;33m(\u001b[0m\u001b[0miterator\u001b[0m\u001b[1;33m)\u001b[0m\u001b[1;33m:\u001b[0m\u001b[1;33m\u001b[0m\u001b[1;33m\u001b[0m\u001b[0m\n\u001b[0m\u001b[0;32m   1044\u001b[0m                 \u001b[0mself\u001b[0m\u001b[1;33m.\u001b[0m\u001b[0m_iterating\u001b[0m \u001b[1;33m=\u001b[0m \u001b[0mself\u001b[0m\u001b[1;33m.\u001b[0m\u001b[0m_original_iterator\u001b[0m \u001b[1;32mis\u001b[0m \u001b[1;32mnot\u001b[0m \u001b[1;32mNone\u001b[0m\u001b[1;33m\u001b[0m\u001b[1;33m\u001b[0m\u001b[0m\n\u001b[0;32m   1045\u001b[0m \u001b[1;33m\u001b[0m\u001b[0m\n",
            "\u001b[1;32m~\\anaconda3\\lib\\site-packages\\joblib\\parallel.py\u001b[0m in \u001b[0;36mdispatch_one_batch\u001b[1;34m(self, iterator)\u001b[0m\n\u001b[0;32m    859\u001b[0m                 \u001b[1;32mreturn\u001b[0m \u001b[1;32mFalse\u001b[0m\u001b[1;33m\u001b[0m\u001b[1;33m\u001b[0m\u001b[0m\n\u001b[0;32m    860\u001b[0m             \u001b[1;32melse\u001b[0m\u001b[1;33m:\u001b[0m\u001b[1;33m\u001b[0m\u001b[1;33m\u001b[0m\u001b[0m\n\u001b[1;32m--> 861\u001b[1;33m                 \u001b[0mself\u001b[0m\u001b[1;33m.\u001b[0m\u001b[0m_dispatch\u001b[0m\u001b[1;33m(\u001b[0m\u001b[0mtasks\u001b[0m\u001b[1;33m)\u001b[0m\u001b[1;33m\u001b[0m\u001b[1;33m\u001b[0m\u001b[0m\n\u001b[0m\u001b[0;32m    862\u001b[0m                 \u001b[1;32mreturn\u001b[0m \u001b[1;32mTrue\u001b[0m\u001b[1;33m\u001b[0m\u001b[1;33m\u001b[0m\u001b[0m\n\u001b[0;32m    863\u001b[0m \u001b[1;33m\u001b[0m\u001b[0m\n",
            "\u001b[1;32m~\\anaconda3\\lib\\site-packages\\joblib\\parallel.py\u001b[0m in \u001b[0;36m_dispatch\u001b[1;34m(self, batch)\u001b[0m\n\u001b[0;32m    777\u001b[0m         \u001b[1;32mwith\u001b[0m \u001b[0mself\u001b[0m\u001b[1;33m.\u001b[0m\u001b[0m_lock\u001b[0m\u001b[1;33m:\u001b[0m\u001b[1;33m\u001b[0m\u001b[1;33m\u001b[0m\u001b[0m\n\u001b[0;32m    778\u001b[0m             \u001b[0mjob_idx\u001b[0m \u001b[1;33m=\u001b[0m \u001b[0mlen\u001b[0m\u001b[1;33m(\u001b[0m\u001b[0mself\u001b[0m\u001b[1;33m.\u001b[0m\u001b[0m_jobs\u001b[0m\u001b[1;33m)\u001b[0m\u001b[1;33m\u001b[0m\u001b[1;33m\u001b[0m\u001b[0m\n\u001b[1;32m--> 779\u001b[1;33m             \u001b[0mjob\u001b[0m \u001b[1;33m=\u001b[0m \u001b[0mself\u001b[0m\u001b[1;33m.\u001b[0m\u001b[0m_backend\u001b[0m\u001b[1;33m.\u001b[0m\u001b[0mapply_async\u001b[0m\u001b[1;33m(\u001b[0m\u001b[0mbatch\u001b[0m\u001b[1;33m,\u001b[0m \u001b[0mcallback\u001b[0m\u001b[1;33m=\u001b[0m\u001b[0mcb\u001b[0m\u001b[1;33m)\u001b[0m\u001b[1;33m\u001b[0m\u001b[1;33m\u001b[0m\u001b[0m\n\u001b[0m\u001b[0;32m    780\u001b[0m             \u001b[1;31m# A job can complete so quickly than its callback is\u001b[0m\u001b[1;33m\u001b[0m\u001b[1;33m\u001b[0m\u001b[0m\n\u001b[0;32m    781\u001b[0m             \u001b[1;31m# called before we get here, causing self._jobs to\u001b[0m\u001b[1;33m\u001b[0m\u001b[1;33m\u001b[0m\u001b[0m\n",
            "\u001b[1;32m~\\anaconda3\\lib\\site-packages\\joblib\\_parallel_backends.py\u001b[0m in \u001b[0;36mapply_async\u001b[1;34m(self, func, callback)\u001b[0m\n\u001b[0;32m    206\u001b[0m     \u001b[1;32mdef\u001b[0m \u001b[0mapply_async\u001b[0m\u001b[1;33m(\u001b[0m\u001b[0mself\u001b[0m\u001b[1;33m,\u001b[0m \u001b[0mfunc\u001b[0m\u001b[1;33m,\u001b[0m \u001b[0mcallback\u001b[0m\u001b[1;33m=\u001b[0m\u001b[1;32mNone\u001b[0m\u001b[1;33m)\u001b[0m\u001b[1;33m:\u001b[0m\u001b[1;33m\u001b[0m\u001b[1;33m\u001b[0m\u001b[0m\n\u001b[0;32m    207\u001b[0m         \u001b[1;34m\"\"\"Schedule a func to be run\"\"\"\u001b[0m\u001b[1;33m\u001b[0m\u001b[1;33m\u001b[0m\u001b[0m\n\u001b[1;32m--> 208\u001b[1;33m         \u001b[0mresult\u001b[0m \u001b[1;33m=\u001b[0m \u001b[0mImmediateResult\u001b[0m\u001b[1;33m(\u001b[0m\u001b[0mfunc\u001b[0m\u001b[1;33m)\u001b[0m\u001b[1;33m\u001b[0m\u001b[1;33m\u001b[0m\u001b[0m\n\u001b[0m\u001b[0;32m    209\u001b[0m         \u001b[1;32mif\u001b[0m \u001b[0mcallback\u001b[0m\u001b[1;33m:\u001b[0m\u001b[1;33m\u001b[0m\u001b[1;33m\u001b[0m\u001b[0m\n\u001b[0;32m    210\u001b[0m             \u001b[0mcallback\u001b[0m\u001b[1;33m(\u001b[0m\u001b[0mresult\u001b[0m\u001b[1;33m)\u001b[0m\u001b[1;33m\u001b[0m\u001b[1;33m\u001b[0m\u001b[0m\n",
            "\u001b[1;32m~\\anaconda3\\lib\\site-packages\\joblib\\_parallel_backends.py\u001b[0m in \u001b[0;36m__init__\u001b[1;34m(self, batch)\u001b[0m\n\u001b[0;32m    570\u001b[0m         \u001b[1;31m# Don't delay the application, to avoid keeping the input\u001b[0m\u001b[1;33m\u001b[0m\u001b[1;33m\u001b[0m\u001b[0m\n\u001b[0;32m    571\u001b[0m         \u001b[1;31m# arguments in memory\u001b[0m\u001b[1;33m\u001b[0m\u001b[1;33m\u001b[0m\u001b[0m\n\u001b[1;32m--> 572\u001b[1;33m         \u001b[0mself\u001b[0m\u001b[1;33m.\u001b[0m\u001b[0mresults\u001b[0m \u001b[1;33m=\u001b[0m \u001b[0mbatch\u001b[0m\u001b[1;33m(\u001b[0m\u001b[1;33m)\u001b[0m\u001b[1;33m\u001b[0m\u001b[1;33m\u001b[0m\u001b[0m\n\u001b[0m\u001b[0;32m    573\u001b[0m \u001b[1;33m\u001b[0m\u001b[0m\n\u001b[0;32m    574\u001b[0m     \u001b[1;32mdef\u001b[0m \u001b[0mget\u001b[0m\u001b[1;33m(\u001b[0m\u001b[0mself\u001b[0m\u001b[1;33m)\u001b[0m\u001b[1;33m:\u001b[0m\u001b[1;33m\u001b[0m\u001b[1;33m\u001b[0m\u001b[0m\n",
            "\u001b[1;32m~\\anaconda3\\lib\\site-packages\\joblib\\parallel.py\u001b[0m in \u001b[0;36m__call__\u001b[1;34m(self)\u001b[0m\n\u001b[0;32m    260\u001b[0m         \u001b[1;31m# change the default number of processes to -1\u001b[0m\u001b[1;33m\u001b[0m\u001b[1;33m\u001b[0m\u001b[0m\n\u001b[0;32m    261\u001b[0m         \u001b[1;32mwith\u001b[0m \u001b[0mparallel_backend\u001b[0m\u001b[1;33m(\u001b[0m\u001b[0mself\u001b[0m\u001b[1;33m.\u001b[0m\u001b[0m_backend\u001b[0m\u001b[1;33m,\u001b[0m \u001b[0mn_jobs\u001b[0m\u001b[1;33m=\u001b[0m\u001b[0mself\u001b[0m\u001b[1;33m.\u001b[0m\u001b[0m_n_jobs\u001b[0m\u001b[1;33m)\u001b[0m\u001b[1;33m:\u001b[0m\u001b[1;33m\u001b[0m\u001b[1;33m\u001b[0m\u001b[0m\n\u001b[1;32m--> 262\u001b[1;33m             return [func(*args, **kwargs)\n\u001b[0m\u001b[0;32m    263\u001b[0m                     for func, args, kwargs in self.items]\n\u001b[0;32m    264\u001b[0m \u001b[1;33m\u001b[0m\u001b[0m\n",
            "\u001b[1;32m~\\anaconda3\\lib\\site-packages\\joblib\\parallel.py\u001b[0m in \u001b[0;36m<listcomp>\u001b[1;34m(.0)\u001b[0m\n\u001b[0;32m    260\u001b[0m         \u001b[1;31m# change the default number of processes to -1\u001b[0m\u001b[1;33m\u001b[0m\u001b[1;33m\u001b[0m\u001b[0m\n\u001b[0;32m    261\u001b[0m         \u001b[1;32mwith\u001b[0m \u001b[0mparallel_backend\u001b[0m\u001b[1;33m(\u001b[0m\u001b[0mself\u001b[0m\u001b[1;33m.\u001b[0m\u001b[0m_backend\u001b[0m\u001b[1;33m,\u001b[0m \u001b[0mn_jobs\u001b[0m\u001b[1;33m=\u001b[0m\u001b[0mself\u001b[0m\u001b[1;33m.\u001b[0m\u001b[0m_n_jobs\u001b[0m\u001b[1;33m)\u001b[0m\u001b[1;33m:\u001b[0m\u001b[1;33m\u001b[0m\u001b[1;33m\u001b[0m\u001b[0m\n\u001b[1;32m--> 262\u001b[1;33m             return [func(*args, **kwargs)\n\u001b[0m\u001b[0;32m    263\u001b[0m                     for func, args, kwargs in self.items]\n\u001b[0;32m    264\u001b[0m \u001b[1;33m\u001b[0m\u001b[0m\n",
            "\u001b[1;32m~\\anaconda3\\lib\\site-packages\\sklearn\\utils\\fixes.py\u001b[0m in \u001b[0;36m__call__\u001b[1;34m(self, *args, **kwargs)\u001b[0m\n\u001b[0;32m    214\u001b[0m     \u001b[1;32mdef\u001b[0m \u001b[0m__call__\u001b[0m\u001b[1;33m(\u001b[0m\u001b[0mself\u001b[0m\u001b[1;33m,\u001b[0m \u001b[1;33m*\u001b[0m\u001b[0margs\u001b[0m\u001b[1;33m,\u001b[0m \u001b[1;33m**\u001b[0m\u001b[0mkwargs\u001b[0m\u001b[1;33m)\u001b[0m\u001b[1;33m:\u001b[0m\u001b[1;33m\u001b[0m\u001b[1;33m\u001b[0m\u001b[0m\n\u001b[0;32m    215\u001b[0m         \u001b[1;32mwith\u001b[0m \u001b[0mconfig_context\u001b[0m\u001b[1;33m(\u001b[0m\u001b[1;33m**\u001b[0m\u001b[0mself\u001b[0m\u001b[1;33m.\u001b[0m\u001b[0mconfig\u001b[0m\u001b[1;33m)\u001b[0m\u001b[1;33m:\u001b[0m\u001b[1;33m\u001b[0m\u001b[1;33m\u001b[0m\u001b[0m\n\u001b[1;32m--> 216\u001b[1;33m             \u001b[1;32mreturn\u001b[0m \u001b[0mself\u001b[0m\u001b[1;33m.\u001b[0m\u001b[0mfunction\u001b[0m\u001b[1;33m(\u001b[0m\u001b[1;33m*\u001b[0m\u001b[0margs\u001b[0m\u001b[1;33m,\u001b[0m \u001b[1;33m**\u001b[0m\u001b[0mkwargs\u001b[0m\u001b[1;33m)\u001b[0m\u001b[1;33m\u001b[0m\u001b[1;33m\u001b[0m\u001b[0m\n\u001b[0m\u001b[0;32m    217\u001b[0m \u001b[1;33m\u001b[0m\u001b[0m\n\u001b[0;32m    218\u001b[0m \u001b[1;33m\u001b[0m\u001b[0m\n",
            "\u001b[1;32m~\\anaconda3\\lib\\site-packages\\sklearn\\model_selection\\_validation.py\u001b[0m in \u001b[0;36m_fit_and_score\u001b[1;34m(estimator, X, y, scorer, train, test, verbose, parameters, fit_params, return_train_score, return_parameters, return_n_test_samples, return_times, return_estimator, split_progress, candidate_progress, error_score)\u001b[0m\n\u001b[0;32m    666\u001b[0m             \u001b[0mcloned_parameters\u001b[0m\u001b[1;33m[\u001b[0m\u001b[0mk\u001b[0m\u001b[1;33m]\u001b[0m \u001b[1;33m=\u001b[0m \u001b[0mclone\u001b[0m\u001b[1;33m(\u001b[0m\u001b[0mv\u001b[0m\u001b[1;33m,\u001b[0m \u001b[0msafe\u001b[0m\u001b[1;33m=\u001b[0m\u001b[1;32mFalse\u001b[0m\u001b[1;33m)\u001b[0m\u001b[1;33m\u001b[0m\u001b[1;33m\u001b[0m\u001b[0m\n\u001b[0;32m    667\u001b[0m \u001b[1;33m\u001b[0m\u001b[0m\n\u001b[1;32m--> 668\u001b[1;33m         \u001b[0mestimator\u001b[0m \u001b[1;33m=\u001b[0m \u001b[0mestimator\u001b[0m\u001b[1;33m.\u001b[0m\u001b[0mset_params\u001b[0m\u001b[1;33m(\u001b[0m\u001b[1;33m**\u001b[0m\u001b[0mcloned_parameters\u001b[0m\u001b[1;33m)\u001b[0m\u001b[1;33m\u001b[0m\u001b[1;33m\u001b[0m\u001b[0m\n\u001b[0m\u001b[0;32m    669\u001b[0m \u001b[1;33m\u001b[0m\u001b[0m\n\u001b[0;32m    670\u001b[0m     \u001b[0mstart_time\u001b[0m \u001b[1;33m=\u001b[0m \u001b[0mtime\u001b[0m\u001b[1;33m.\u001b[0m\u001b[0mtime\u001b[0m\u001b[1;33m(\u001b[0m\u001b[1;33m)\u001b[0m\u001b[1;33m\u001b[0m\u001b[1;33m\u001b[0m\u001b[0m\n",
            "\u001b[1;32m~\\anaconda3\\lib\\site-packages\\sklearn\\base.py\u001b[0m in \u001b[0;36mset_params\u001b[1;34m(self, **params)\u001b[0m\n\u001b[0;32m    243\u001b[0m             \u001b[0mkey\u001b[0m\u001b[1;33m,\u001b[0m \u001b[0mdelim\u001b[0m\u001b[1;33m,\u001b[0m \u001b[0msub_key\u001b[0m \u001b[1;33m=\u001b[0m \u001b[0mkey\u001b[0m\u001b[1;33m.\u001b[0m\u001b[0mpartition\u001b[0m\u001b[1;33m(\u001b[0m\u001b[1;34m\"__\"\u001b[0m\u001b[1;33m)\u001b[0m\u001b[1;33m\u001b[0m\u001b[1;33m\u001b[0m\u001b[0m\n\u001b[0;32m    244\u001b[0m             \u001b[1;32mif\u001b[0m \u001b[0mkey\u001b[0m \u001b[1;32mnot\u001b[0m \u001b[1;32min\u001b[0m \u001b[0mvalid_params\u001b[0m\u001b[1;33m:\u001b[0m\u001b[1;33m\u001b[0m\u001b[1;33m\u001b[0m\u001b[0m\n\u001b[1;32m--> 245\u001b[1;33m                 raise ValueError(\n\u001b[0m\u001b[0;32m    246\u001b[0m                     \u001b[1;34m\"Invalid parameter %s for estimator %s. \"\u001b[0m\u001b[1;33m\u001b[0m\u001b[1;33m\u001b[0m\u001b[0m\n\u001b[0;32m    247\u001b[0m                     \u001b[1;34m\"Check the list of available parameters \"\u001b[0m\u001b[1;33m\u001b[0m\u001b[1;33m\u001b[0m\u001b[0m\n",
            "\u001b[1;31mValueError\u001b[0m: Invalid parameter citerion for estimator RandomForestClassifier(random_state=0). Check the list of available parameters with `estimator.get_params().keys()`."
          ]
        }
      ],
      "source": [
        "grid.fit(x_train, y_train)"
      ]
    },
    {
      "cell_type": "code",
      "execution_count": null,
      "id": "a76aec37",
      "metadata": {
        "id": "a76aec37"
      },
      "outputs": [],
      "source": []
    },
    {
      "cell_type": "code",
      "execution_count": null,
      "id": "9fd8b699",
      "metadata": {
        "id": "9fd8b699"
      },
      "outputs": [],
      "source": []
    }
  ],
  "metadata": {
    "kernelspec": {
      "display_name": "Python 3 (ipykernel)",
      "language": "python",
      "name": "python3"
    },
    "language_info": {
      "codemirror_mode": {
        "name": "ipython",
        "version": 3
      },
      "file_extension": ".py",
      "mimetype": "text/x-python",
      "name": "python",
      "nbconvert_exporter": "python",
      "pygments_lexer": "ipython3",
      "version": "3.9.13"
    },
    "colab": {
      "provenance": []
    }
  },
  "nbformat": 4,
  "nbformat_minor": 5
}